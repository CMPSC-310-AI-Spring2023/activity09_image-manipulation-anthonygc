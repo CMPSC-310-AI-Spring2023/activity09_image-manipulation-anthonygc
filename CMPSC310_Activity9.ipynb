{
  "cells": [
    {
      "cell_type": "markdown",
      "metadata": {
        "colab_type": "text",
        "id": "view-in-github"
      },
      "source": [
        "<a href=\"https://colab.research.google.com/github/CMPSC-310-AI-Spring2023/activity09_image-manipulation/blob/main/CMPSC310_Activity9.ipynb\" target=\"_parent\"><img src=\"https://colab.research.google.com/assets/colab-badge.svg\" alt=\"Open In Colab\"/></a>"
      ]
    },
    {
      "cell_type": "markdown",
      "metadata": {
        "id": "vcrrIOhGjS0Z"
      },
      "source": [
        "# **Activity 9: Image Manipulation **\n"
      ]
    },
    {
      "cell_type": "code",
      "execution_count": null,
      "metadata": {},
      "outputs": [],
      "source": [
        "import numpy as np\n",
        "import cv2\n",
        "\n",
        "rect = np.zeros((300, 300)), dtype = \"unit8\"\n",
        "cv2.rectangle(rect, (25, 25), (275, 275), 255, -1)\n",
        "cv2.imwrite(\"bitwise/Recatngle.png\", rect)\n",
        "\n",
        "circ = np.zeros((300, 300), dtype = \"unit8\")\n",
        "cv2.circle(circ, (150, 150), 150, 255, -1)\n",
        "cv2.imwrite(\"bitwise/Circle.png\", circ)\n",
        "\n",
        "bitwiseAnd = cv2.bitwise_and(rect, circ)\n",
        "cv2.imwrite(\"bitwise/AND.png\", bitwiseAND)\n",
        "\n",
        "bitwiseOR = cv2.bitwise_or(rect, circ)\n",
        "cv2.imwrite(\"bitwise/AND.png\", bitwiseOR)\n",
        "\n",
        "bitwiseXOR = cv2.bitwise_xor(rect, circ)\n",
        "cv2.imwrite(\"bitwise/AND.png\", bitwiseXOR)"
      ]
    }
  ],
  "metadata": {
    "colab": {
      "authorship_tag": "ABX9TyO1EW9IiVqkQM1c2GY6XqBQ",
      "include_colab_link": true,
      "provenance": []
    },
    "kernelspec": {
      "display_name": "Python 3",
      "name": "python3"
    },
    "language_info": {
      "name": "python"
    }
  },
  "nbformat": 4,
  "nbformat_minor": 0
}
